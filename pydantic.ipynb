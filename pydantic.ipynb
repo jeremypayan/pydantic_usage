{
 "cells": [
  {
   "cell_type": "markdown",
   "id": "129be241",
   "metadata": {
    "toc": true
   },
   "source": [
    "<h1>Table of Contents<span class=\"tocSkip\"></span></h1>\n",
    "<div class=\"toc\"><ul class=\"toc-item\"><li><span><a href=\"#Imports\" data-toc-modified-id=\"Imports-1\"><span class=\"toc-item-num\">1&nbsp;&nbsp;</span>Imports</a></span></li><li><span><a href=\"#First-comprehension\" data-toc-modified-id=\"First-comprehension-2\"><span class=\"toc-item-num\">2&nbsp;&nbsp;</span>First comprehension</a></span></li><li><span><a href=\"#Models\" data-toc-modified-id=\"Models-3\"><span class=\"toc-item-num\">3&nbsp;&nbsp;</span>Models</a></span></li><li><span><a href=\"#More-explicit-errors-:-ValidationError\" data-toc-modified-id=\"More-explicit-errors-:-ValidationError-4\"><span class=\"toc-item-num\">4&nbsp;&nbsp;</span>More explicit errors : ValidationError</a></span></li><li><span><a href=\"#Integration-with-IDE\" data-toc-modified-id=\"Integration-with-IDE-5\"><span class=\"toc-item-num\">5&nbsp;&nbsp;</span>Integration with IDE</a></span></li><li><span><a href=\"#Adding-constraints\" data-toc-modified-id=\"Adding-constraints-6\"><span class=\"toc-item-num\">6&nbsp;&nbsp;</span>Adding constraints</a></span></li><li><span><a href=\"#Extra-validation\" data-toc-modified-id=\"Extra-validation-7\"><span class=\"toc-item-num\">7&nbsp;&nbsp;</span>Extra validation</a></span></li><li><span><a href=\"#Environment-variables\" data-toc-modified-id=\"Environment-variables-8\"><span class=\"toc-item-num\">8&nbsp;&nbsp;</span>Environment variables</a></span></li><li><span><a href=\"#How-can-we-run-validation-on-our-use-case-?\" data-toc-modified-id=\"How-can-we-run-validation-on-our-use-case-?-9\"><span class=\"toc-item-num\">9&nbsp;&nbsp;</span>How can we run validation on our use case ?</a></span></li><li><span><a href=\"#Extra-types\" data-toc-modified-id=\"Extra-types-10\"><span class=\"toc-item-num\">10&nbsp;&nbsp;</span>Extra types</a></span></li><li><span><a href=\"#Why-is-it-useful\" data-toc-modified-id=\"Why-is-it-useful-11\"><span class=\"toc-item-num\">11&nbsp;&nbsp;</span>Why is it useful</a></span></li><li><span><a href=\"#Sources\" data-toc-modified-id=\"Sources-12\"><span class=\"toc-item-num\">12&nbsp;&nbsp;</span>Sources</a></span></li></ul></div>"
   ]
  },
  {
   "cell_type": "markdown",
   "id": "f8b6f263",
   "metadata": {},
   "source": [
    "*Objective* : Pydantic test (a data validation library)\n",
    "\n",
    "*Ressources* : https://pydantic-docs.helpmanual.io/\n",
    "\n",
    "*What is it ?* \n",
    "- An abstraction for settings and data validation which does not have any impact on your code logic.\n",
    "\n",
    "*Data validation*  \n",
    "\"Data validation is a process that makes data compliant with a set of rules, schemas or constraints that we defined. This makes our code ingest and return data in the exact way it was expected to.\n",
    "Data validation prevents unexpected errors that occur due to problems such as malformed user inputs, schema evolutions etc.  In that sense, it also acts as a sanitization process.\" (https://towardsdatascience.com/8-reasons-to-start-using-pydantic-to-improve-data-parsing-and-validation-4f437eae7678) \n",
    "  \n",
    "*Value ?* \n",
    "- Define how data should be in pure, canonical python; validate it with pydantic.\n",
    "- Data validation makes sure the data we ingest and send to another service follow a set of constraints."
   ]
  },
  {
   "cell_type": "markdown",
   "id": "90b39bde",
   "metadata": {},
   "source": [
    "## Imports "
   ]
  },
  {
   "cell_type": "code",
   "execution_count": 85,
   "id": "b046b306",
   "metadata": {},
   "outputs": [],
   "source": [
    "from pydantic import BaseModel, ValidationError\n",
    "from datetime import datetime\n",
    "from typing import List, Optional\n",
    "import json"
   ]
  },
  {
   "cell_type": "markdown",
   "id": "073cfada",
   "metadata": {},
   "source": [
    "## First comprehension"
   ]
  },
  {
   "cell_type": "markdown",
   "id": "c5a6db68",
   "metadata": {},
   "source": [
    "Python do not enforce the type hint (https://docs.python.org/3/library/typing.html)"
   ]
  },
  {
   "cell_type": "code",
   "execution_count": 65,
   "id": "f631802f",
   "metadata": {},
   "outputs": [],
   "source": [
    "def greeting(name: str) -> str:\n",
    "    \"\"\"this function takes as input a string and is expected to return a string as well \"\"\"\n",
    "    return 'Hello ' + name\n",
    "\n",
    "# On python runtime, an error will be raised and the type will not be enforced. \n",
    "# greeting(1) will raise an error => can only concatenate str (not \"int\") to str"
   ]
  },
  {
   "cell_type": "markdown",
   "id": "740b18e6",
   "metadata": {},
   "source": [
    "With pydantic model, we can set data types. It will enforce types corresponding to what is expected. "
   ]
  },
  {
   "cell_type": "code",
   "execution_count": 66,
   "id": "2ba07ac3",
   "metadata": {},
   "outputs": [],
   "source": [
    "# We can set Optionnal and required params \n",
    "class User(BaseModel):\n",
    "    id: int \n",
    "    name: str\n",
    "    date:Optional[datetime]\n",
    "    referrals:Optional[List[int]] = []"
   ]
  },
  {
   "cell_type": "code",
   "execution_count": 67,
   "id": "9be36309",
   "metadata": {},
   "outputs": [
    {
     "data": {
      "text/plain": [
       "'Hello 1'"
      ]
     },
     "execution_count": 67,
     "metadata": {},
     "output_type": "execute_result"
    }
   ],
   "source": [
    "params = {\"id\": \"2\", \"name\": 1, \"date\":datetime(2021, 1, 1), \"referrals\":[\"1\"]}\n",
    "USER = User(**params) # here the int name has been coerced into a string => Strings, bytes or floats will be coerced to ints if possible; otherwise an exception will be raised.\n",
    "greeting(USER.name)"
   ]
  },
  {
   "cell_type": "code",
   "execution_count": 73,
   "id": "423c86da",
   "metadata": {},
   "outputs": [
    {
     "name": "stdout",
     "output_type": "stream",
     "text": [
      "we raised an exception 1 validation error for User\n",
      "name\n",
      "  str type expected (type=type_error.str) with pydantic \n"
     ]
    }
   ],
   "source": [
    "# If the type cannot be enforced, a clear error is raised. \n",
    "try : \n",
    "    User(id=1, name=datetime(2021, 1, 1))\n",
    "except Exception as e: \n",
    "    print(f\"we raised an exception {e} with pydantic \")"
   ]
  },
  {
   "cell_type": "code",
   "execution_count": 78,
   "id": "c41ad132",
   "metadata": {},
   "outputs": [
    {
     "name": "stdout",
     "output_type": "stream",
     "text": [
      "we raised an exception 2 validation errors for User\n",
      "id\n",
      "  field required (type=value_error.missing)\n",
      "name\n",
      "  str type expected (type=type_error.str) with pydantic \n"
     ]
    }
   ],
   "source": [
    "# erors about missing required data are also raised explicitely \n",
    "\n",
    "try : \n",
    "    User(name=datetime(2021, 1, 1))\n",
    "except Exception as e: \n",
    "    print(f\"we raised an exception {e} with pydantic \")"
   ]
  },
  {
   "cell_type": "markdown",
   "id": "2e6d9aa8",
   "metadata": {},
   "source": [
    "## Models "
   ]
  },
  {
   "cell_type": "markdown",
   "id": "9509e466",
   "metadata": {},
   "source": [
    "\"Untrusted data can be passed to a model, and after parsing and validation pydantic guarantees that the fields of the resultant model instance will conform to the field types defined on the model.\n",
    "\n",
    "You can still make your data follow these constraints by loading it and applying a series of conditions to each field. This could work but it can quickly result in a lot of code that becomes unmaintainable over time.\n",
    "What if we could encapsulate the data into a class, create a typed attribute for each of its fields and validate the field constraints at runtime when the data is loaded into the class?\"\n",
    "\n",
    "It is an abstraction to set constraints about data validation. "
   ]
  },
  {
   "cell_type": "markdown",
   "id": "4c44ced8",
   "metadata": {},
   "source": [
    "if data parsed do not meet the Model constraints, a ValidationError will be raised. \n"
   ]
  },
  {
   "cell_type": "code",
   "execution_count": 76,
   "id": "39a06409",
   "metadata": {},
   "outputs": [
    {
     "ename": "ModuleNotFoundError",
     "evalue": "No module named 'pydb'",
     "output_type": "error",
     "traceback": [
      "\u001b[0;31m---------------------------------------------------------------------------\u001b[0m",
      "\u001b[0;31mModuleNotFoundError\u001b[0m                       Traceback (most recent call last)",
      "\u001b[0;32m/var/folders/56/23ks4yp50kv6dhqr_b_7n_hw0000gn/T/ipykernel_66783/177641165.py\u001b[0m in \u001b[0;36m<module>\u001b[0;34m\u001b[0m\n\u001b[1;32m      1\u001b[0m \u001b[0;31m# We can set other models as inputs\u001b[0m\u001b[0;34m\u001b[0m\u001b[0;34m\u001b[0m\u001b[0;34m\u001b[0m\u001b[0m\n\u001b[0;32m----> 2\u001b[0;31m \u001b[0;32mfrom\u001b[0m \u001b[0mpydb\u001b[0m\u001b[0;34m.\u001b[0m\u001b[0mbase_connector\u001b[0m \u001b[0;32mimport\u001b[0m \u001b[0mBaseConnector\u001b[0m\u001b[0;34m\u001b[0m\u001b[0;34m\u001b[0m\u001b[0m\n\u001b[0m\u001b[1;32m      3\u001b[0m \u001b[0;32mclass\u001b[0m \u001b[0mReservationsSourceConnector\u001b[0m\u001b[0;34m(\u001b[0m\u001b[0mBaseModel\u001b[0m\u001b[0;34m)\u001b[0m\u001b[0;34m:\u001b[0m\u001b[0;34m\u001b[0m\u001b[0;34m\u001b[0m\u001b[0m\n\u001b[1;32m      4\u001b[0m     \u001b[0mconnector\u001b[0m\u001b[0;34m:\u001b[0m \u001b[0mBaseConnector\u001b[0m\u001b[0;34m\u001b[0m\u001b[0;34m\u001b[0m\u001b[0m\n",
      "\u001b[0;31mModuleNotFoundError\u001b[0m: No module named 'pydb'"
     ]
    }
   ],
   "source": [
    "# We can set other models as inputs \n",
    "from pydb.base_connector import BaseConnector\n",
    "class ReservationsSourceConnector(BaseModel):\n",
    "    connector: BaseConnector"
   ]
  },
  {
   "cell_type": "markdown",
   "id": "4c5ce65a",
   "metadata": {},
   "source": [
    "## More explicit errors : ValidationError "
   ]
  },
  {
   "cell_type": "code",
   "execution_count": 86,
   "id": "be457c6d",
   "metadata": {},
   "outputs": [
    {
     "name": "stdout",
     "output_type": "stream",
     "text": [
      "more eplicit error [\n",
      "  {\n",
      "    \"loc\": [\n",
      "      \"name\"\n",
      "    ],\n",
      "    \"msg\": \"str type expected\",\n",
      "    \"type\": \"type_error.str\"\n",
      "  }\n",
      "]\n"
     ]
    }
   ],
   "source": [
    "bad_data = {\"id\": 1, \"name\": datetime(2021, 1, 1)}\n",
    "try : \n",
    "    User(**bad_data)\n",
    "except ValidationError as e:\n",
    "    print(f\"more eplicit error {e.json()}\")\n",
    "                "
   ]
  },
  {
   "cell_type": "markdown",
   "id": "1094bb5b",
   "metadata": {},
   "source": [
    "## Integration with IDE"
   ]
  },
  {
   "cell_type": "markdown",
   "id": "6eabc38c",
   "metadata": {},
   "source": [
    "Cool stuff when coding like autocompletion etc. It is very useful to avoid mistakes and to gain time. "
   ]
  },
  {
   "cell_type": "markdown",
   "id": "2427a433",
   "metadata": {},
   "source": [
    "## Adding constraints "
   ]
  },
  {
   "cell_type": "markdown",
   "id": "0a90969a",
   "metadata": {},
   "source": [
    "We can add constraints when creating validation models. To do that, we use the Field class. \n"
   ]
  },
  {
   "cell_type": "markdown",
   "id": "dbd22ecb",
   "metadata": {},
   "source": [
    "- you can add constraints on the length of the string fields by using the Field’s max_lengthand min_length arguments\n",
    "- you can set boundaries on the numerical fields by using the Field’s ge and le arguments. (ge: greater or equal, le: lower or equal).\n",
    "- regex : this adds a regular expression validator. This is useful when you want some string values to match a specific pattern\n",
    "- multiple_of : this applies to int fields. It adds a “multiple of” validator\n",
    "- max_items and min_items : this applies to lists and imposes a constraint on the number of items contained in them\n",
    "- allow_mutation : this applies to any type of field. It defaults to False. When set to True, it makes the field immutable (or protected)."
   ]
  },
  {
   "cell_type": "code",
   "execution_count": 100,
   "id": "c4fa4d31",
   "metadata": {},
   "outputs": [],
   "source": [
    "from pydantic import Field\n",
    "class SourceData(BaseModel):\n",
    "    db : str = Field(min_length=1, max_length=25)\n",
    "    table : str = Field(min_length=1, max_length=25)\n",
    "    attributes : List = Field(min_items=1, max_items=20)"
   ]
  },
  {
   "cell_type": "code",
   "execution_count": 102,
   "id": "eee2cc01",
   "metadata": {},
   "outputs": [
    {
     "data": {
      "text/plain": [
       "'{\"db\": \"bddadmcity\", \"table\": \"reservations\", \"attributes\": [\"id\", \"date_end\", \"last_status\"]}'"
      ]
     },
     "execution_count": 102,
     "metadata": {},
     "output_type": "execute_result"
    }
   ],
   "source": [
    "config_source_data = {\"db\" : \"bddadmcity\", \"table\" : \"reservations\", \"attributes\" : [\"id\", \"date_end\", \"last_status\"]}\n",
    "source_data = SourceData(**config_source_data)\n",
    "source_data.json() # source_data.schema() is also cool to see the data. "
   ]
  },
  {
   "cell_type": "markdown",
   "id": "7d274a99",
   "metadata": {},
   "source": [
    "## Extra validation"
   ]
  },
  {
   "cell_type": "markdown",
   "id": "6845709f",
   "metadata": {},
   "source": [
    "We can create our own validators with the decorator @validator. Far exemple here, the params for our gaussian mixture model need to fit these constraints : \n",
    "- n_components needs to be an integer lower than 100 and greater than 1; \n",
    "- covariance_type needs to be a string and alloew values are \"full\",\"tied\",\"diag\" and \"spherical\". "
   ]
  },
  {
   "cell_type": "code",
   "execution_count": 117,
   "id": "760a204b",
   "metadata": {},
   "outputs": [],
   "source": [
    "from pydantic import BaseModel, validator\n",
    "from typing import Optional\n",
    "\n",
    "class BayesianGaussianMixture(BaseModel):\n",
    "    n_components: int = Field(gt=1, lt=100)\n",
    "    covariance_type: Optional[str]\n",
    "\n",
    "    @validator(\"covariance_type\")\n",
    "    def covariance_type_is_valid(cls, covariance_type: Optional[str]) -> Optional[str]:\n",
    "        valid_set_values = [\"full\",\"tied\",\"diag\",\"spherical\"]\n",
    "        if (covariance_type is None) or (covariance_type not in valid_set_values) :\n",
    "            raise ValueError(\" covariance_type should match these keywords : full, tied, diag or spherical\")\n",
    "        return covariance_type"
   ]
  },
  {
   "cell_type": "code",
   "execution_count": 116,
   "id": "875e3174",
   "metadata": {},
   "outputs": [
    {
     "data": {
      "text/plain": [
       "BayesianGaussianMixture(n_components=2, covariance_type='full')"
      ]
     },
     "execution_count": 116,
     "metadata": {},
     "output_type": "execute_result"
    }
   ],
   "source": [
    "BGM_PARAMS = {\"n_components\" : 2, \"covariance_type\" : \"full\"}\n",
    "BayesianGaussianMixture(**BGM_PARAMS)"
   ]
  },
  {
   "cell_type": "markdown",
   "id": "08ae3b8d",
   "metadata": {},
   "source": [
    "We can handle a lot of things like missing data etc. "
   ]
  },
  {
   "cell_type": "markdown",
   "id": "6aac7da4",
   "metadata": {},
   "source": [
    "## Environment variables"
   ]
  },
  {
   "cell_type": "markdown",
   "id": "2fbfee22",
   "metadata": {},
   "source": [
    "Pydantic allows you to read environment variables from .env files and parse them directly inside BaseSettings class."
   ]
  },
  {
   "cell_type": "code",
   "execution_count": 121,
   "id": "161a6d32",
   "metadata": {},
   "outputs": [
    {
     "ename": "ImportError",
     "evalue": "python-dotenv is not installed, run `pip install pydantic[dotenv]`",
     "output_type": "error",
     "traceback": [
      "\u001b[0;31m---------------------------------------------------------------------------\u001b[0m",
      "\u001b[0;31mModuleNotFoundError\u001b[0m                       Traceback (most recent call last)",
      "\u001b[0;32m~/anaconda3/lib/python3.7/site-packages/pydantic/env_settings.cpython-37m-darwin.so\u001b[0m in \u001b[0;36mpydantic.env_settings.read_env_file\u001b[0;34m()\u001b[0m\n",
      "\u001b[0;31mModuleNotFoundError\u001b[0m: No module named 'dotenv'",
      "\nThe above exception was the direct cause of the following exception:\n",
      "\u001b[0;31mImportError\u001b[0m                               Traceback (most recent call last)",
      "\u001b[0;32m/var/folders/56/23ks4yp50kv6dhqr_b_7n_hw0000gn/T/ipykernel_66783/3877713261.py\u001b[0m in \u001b[0;36m<module>\u001b[0;34m\u001b[0m\n\u001b[1;32m      9\u001b[0m         \u001b[0menv_file_encoding\u001b[0m \u001b[0;34m=\u001b[0m \u001b[0;34m\"utf-8\"\u001b[0m\u001b[0;34m\u001b[0m\u001b[0;34m\u001b[0m\u001b[0m\n\u001b[1;32m     10\u001b[0m \u001b[0;34m\u001b[0m\u001b[0m\n\u001b[0;32m---> 11\u001b[0;31m \u001b[0msettings\u001b[0m \u001b[0;34m=\u001b[0m \u001b[0mSettings\u001b[0m\u001b[0;34m(\u001b[0m\u001b[0;34m)\u001b[0m\u001b[0;34m\u001b[0m\u001b[0;34m\u001b[0m\u001b[0m\n\u001b[0m\u001b[1;32m     12\u001b[0m \u001b[0mprint\u001b[0m\u001b[0;34m(\u001b[0m\u001b[0msettings\u001b[0m\u001b[0;34m)\u001b[0m\u001b[0;34m\u001b[0m\u001b[0;34m\u001b[0m\u001b[0m\n",
      "\u001b[0;32m~/anaconda3/lib/python3.7/site-packages/pydantic/env_settings.cpython-37m-darwin.so\u001b[0m in \u001b[0;36mpydantic.env_settings.BaseSettings.__init__\u001b[0;34m()\u001b[0m\n",
      "\u001b[0;32m~/anaconda3/lib/python3.7/site-packages/pydantic/env_settings.cpython-37m-darwin.so\u001b[0m in \u001b[0;36mpydantic.env_settings.BaseSettings._build_values\u001b[0;34m()\u001b[0m\n",
      "\u001b[0;32m~/anaconda3/lib/python3.7/site-packages/pydantic/env_settings.cpython-37m-darwin.so\u001b[0m in \u001b[0;36mpydantic.env_settings.BaseSettings._build_environ\u001b[0;34m()\u001b[0m\n",
      "\u001b[0;32m~/anaconda3/lib/python3.7/site-packages/pydantic/env_settings.cpython-37m-darwin.so\u001b[0m in \u001b[0;36mpydantic.env_settings.read_env_file\u001b[0;34m()\u001b[0m\n",
      "\u001b[0;31mImportError\u001b[0m: python-dotenv is not installed, run `pip install pydantic[dotenv]`"
     ]
    }
   ],
   "source": [
    "from pydantic import BaseSettings\n",
    "\n",
    "class Settings(BaseSettings):\n",
    "    api_key: str\n",
    "    login: str\n",
    "    seed: int\n",
    "    class Config:\n",
    "        env_file = \".env\"\n",
    "        env_file_encoding = \"utf-8\"\n",
    "\n",
    "settings = Settings()\n",
    "print(settings)"
   ]
  },
  {
   "cell_type": "markdown",
   "id": "7e69271e",
   "metadata": {},
   "source": [
    "## How can we run validation on our use case ? "
   ]
  },
  {
   "cell_type": "markdown",
   "id": "8e680690",
   "metadata": {},
   "source": [
    "* Services : \n",
    "    - data preparation \n",
    "    - PCA decompostion \n",
    "    - Unsupervised clustering\n",
    "    - Load results\n",
    "\n",
    "* Interfaces : \n",
    "    - data_source\n",
    "    \n",
    "* Models : \n",
    "    - tables + fields => data_source_model(connector), table, fields (readable and maintainable => schema is explicitely defined ! ) \n",
    "    - settings (config file => .env + model config) => validation\n",
    "    \n",
    "* Validation :\n",
    "    - config file => .env + model config"
   ]
  },
  {
   "cell_type": "code",
   "execution_count": 75,
   "id": "9ef133ba",
   "metadata": {},
   "outputs": [
    {
     "data": {
      "text/plain": [
       "'Pydantic models are structures that ingest the data, parse it and make sure it conforms to the fields’ constraints defined in it.'"
      ]
     },
     "execution_count": 75,
     "metadata": {},
     "output_type": "execute_result"
    }
   ],
   "source": [
    "\"Pydantic models are structures that ingest the data, parse it and make sure it conforms to the fields’ constraints defined in it.\""
   ]
  },
  {
   "cell_type": "markdown",
   "id": "84f10443",
   "metadata": {},
   "source": [
    "- interface db source (bigquery ou mysql); \n",
    "- model input validation; "
   ]
  },
  {
   "cell_type": "markdown",
   "id": "c52bcd83",
   "metadata": {},
   "source": [
    "## Extra types "
   ]
  },
  {
   "cell_type": "markdown",
   "id": "5f4289f8",
   "metadata": {},
   "source": [
    "## Why is it useful"
   ]
  },
  {
   "cell_type": "markdown",
   "id": "c3bbb1b7",
   "metadata": {},
   "source": [
    "- it is fast;  \n",
    "- provides clear error messages (data validation); \n",
    "- allows us to focus on input data when writing code and to set constraints); \n",
    "- makes it easy to write readable code.\n",
    "\n",
    "\n",
    "=> \"To avoid starting our functions with a long set of validations and assertions, we use pydantic to validate the input.\""
   ]
  },
  {
   "cell_type": "markdown",
   "id": "18166773",
   "metadata": {},
   "source": [
    "## Sources "
   ]
  },
  {
   "cell_type": "markdown",
   "id": "27600c17",
   "metadata": {},
   "source": [
    "- https://towardsdatascience.com/8-reasons-to-start-using-pydantic-to-improve-data-parsing-and-validation-4f437eae7678\n",
    "-https://pydantic-docs.helpmanual.io/\n",
    "- https://datascience.statnett.no/2020/05/11/how-we-validate-data-using-pydantic/\n",
    "- https://dev.to/tiangolo/the-future-of-fastapi-and-pydantic-is-bright-3pbm\n",
    "- https://www.youtube.com/watch?v=lon-dEXfY2I"
   ]
  },
  {
   "cell_type": "code",
   "execution_count": null,
   "id": "1da105a8",
   "metadata": {},
   "outputs": [],
   "source": []
  }
 ],
 "metadata": {
  "kernelspec": {
   "display_name": "Python 3 (ipykernel)",
   "language": "python",
   "name": "python3"
  },
  "language_info": {
   "codemirror_mode": {
    "name": "ipython",
    "version": 3
   },
   "file_extension": ".py",
   "mimetype": "text/x-python",
   "name": "python",
   "nbconvert_exporter": "python",
   "pygments_lexer": "ipython3",
   "version": "3.7.3"
  },
  "toc": {
   "base_numbering": 1,
   "nav_menu": {},
   "number_sections": true,
   "sideBar": true,
   "skip_h1_title": false,
   "title_cell": "Table of Contents",
   "title_sidebar": "Contents",
   "toc_cell": true,
   "toc_position": {},
   "toc_section_display": true,
   "toc_window_display": false
  }
 },
 "nbformat": 4,
 "nbformat_minor": 5
}
